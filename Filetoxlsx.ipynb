{
 "cells": [
  {
   "cell_type": "code",
   "execution_count": null,
   "id": "4dc9beee-ff8c-45ea-b6d7-abdeb82ad28d",
   "metadata": {},
   "outputs": [],
   "source": [
    "import requests\n",
    "import pandas as pd\n",
    "\n",
    "url = 'https://raw.githubusercontent.com/data-bootcamp-v4/data/main/we_fn_use_c_marketing_customer_value_analysis.csv'\n",
    "\n",
    "response = requests.get(url)\n",
    "with open('we_fn_use_c_marketing_customer_value_analysis.xlsx', 'wb') as f:\n",
    "    f.write(response.content)\n",
    "\n",
    "df = pd.read_excel('we_fn_use_c_marketing_customer_value_analysis.xlsx')"
   ]
  }
 ],
 "metadata": {
  "kernelspec": {
   "display_name": "Python 3 (ipykernel)",
   "language": "python",
   "name": "python3"
  },
  "language_info": {
   "codemirror_mode": {
    "name": "ipython",
    "version": 3
   },
   "file_extension": ".py",
   "mimetype": "text/x-python",
   "name": "python",
   "nbconvert_exporter": "python",
   "pygments_lexer": "ipython3",
   "version": "3.12.7"
  }
 },
 "nbformat": 4,
 "nbformat_minor": 5
}
